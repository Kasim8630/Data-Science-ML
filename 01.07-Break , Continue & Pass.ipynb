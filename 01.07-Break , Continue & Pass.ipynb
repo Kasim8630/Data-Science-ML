{
 "cells": [
  {
   "cell_type": "markdown",
   "metadata": {},
   "source": [
    "# break , continue & pass "
   ]
  },
  {
   "cell_type": "code",
   "execution_count": 1,
   "metadata": {},
   "outputs": [
    {
     "name": "stdout",
     "output_type": "stream",
     "text": [
      "a\n",
      "b\n",
      "c\n",
      "d\n",
      "e\n",
      "Out of for loop\n",
      "\n",
      "a\n",
      "b\n",
      "c\n",
      "d\n",
      "e\n",
      "Out of while loop\n"
     ]
    }
   ],
   "source": [
    "# Python program to demonstrate \n",
    "# break statement \n",
    "\n",
    "s = 'abcdefghijklmnopqrstuvwxyz'\n",
    "# Using for loop  \n",
    "for letter in s:  \n",
    "    \n",
    "    print(letter)  \n",
    "    # break the loop as soon it sees 'e'  \n",
    "    # or 's'  \n",
    "    if letter == 'e' or letter == 's':  \n",
    "        break\n",
    "    \n",
    "print(\"Out of for loop\")  \n",
    "print()  \n",
    "    \n",
    "i = 0\n",
    "    \n",
    "# Using while loop  \n",
    "while True:  \n",
    "    print(s[i])  \n",
    "    \n",
    "    # break the loop as soon it sees 'e'  \n",
    "    # or 's'  \n",
    "    if s[i] == 'e' or s[i] == 's':  \n",
    "        break\n",
    "    i += 1\n",
    "    \n",
    "print(\"Out of while loop\")"
   ]
  },
  {
   "cell_type": "code",
   "execution_count": 2,
   "metadata": {},
   "outputs": [
    {
     "name": "stdout",
     "output_type": "stream",
     "text": [
      "1 2 3 4 5 7 8 9 10 "
     ]
    }
   ],
   "source": [
    "# Python program to demonstrate \n",
    "# continue statement \n",
    "\n",
    "# loop from 1 to 10  \n",
    "for i in range(1, 11):  \n",
    "    \n",
    "    # If i is equals to 6,    \n",
    "    # continue to next iteration    \n",
    "    # without printing   \n",
    "    if i == 6:  \n",
    "        continue\n",
    "    else:  \n",
    "        # otherwise print the value  \n",
    "        # of i  \n",
    "        print(i, end = \" \")"
   ]
  },
  {
   "cell_type": "code",
   "execution_count": 3,
   "metadata": {},
   "outputs": [
    {
     "name": "stdout",
     "output_type": "stream",
     "text": [
      "c\n",
      "l\n",
      "i\n",
      "c\n",
      "Pass executed\n",
      "k\n",
      "s\n"
     ]
    }
   ],
   "source": [
    "# Python program to demonstrate \n",
    "# pass statement \n",
    "  \n",
    "s = \"clicks\"\n",
    "  \n",
    "# Empty loop \n",
    "for i in s: \n",
    "    # No error will be raised \n",
    "    pass\n",
    "  \n",
    "# Empty function \n",
    "def fun(): \n",
    "    pass\n",
    "  \n",
    "# No error will be raised \n",
    "fun() \n",
    "  \n",
    "# Pass statement \n",
    "for i in s: \n",
    "    if i == 'k': \n",
    "        print('Pass executed') \n",
    "        pass\n",
    "    print(i)"
   ]
  },
  {
   "cell_type": "markdown",
   "metadata": {},
   "source": [
    "# ...END..."
   ]
  }
 ],
 "metadata": {
  "kernelspec": {
   "display_name": "Python 3",
   "language": "python",
   "name": "python3"
  },
  "language_info": {
   "codemirror_mode": {
    "name": "ipython",
    "version": 3
   },
   "file_extension": ".py",
   "mimetype": "text/x-python",
   "name": "python",
   "nbconvert_exporter": "python",
   "pygments_lexer": "ipython3",
   "version": "3.7.4"
  }
 },
 "nbformat": 4,
 "nbformat_minor": 2
}

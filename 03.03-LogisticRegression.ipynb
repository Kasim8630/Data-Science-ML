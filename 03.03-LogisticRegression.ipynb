{
 "cells": [
  {
   "cell_type": "markdown",
   "metadata": {},
   "source": [
    "# Steps for LogisticRegression & Code"
   ]
  },
  {
   "cell_type": "code",
   "execution_count": null,
   "metadata": {},
   "outputs": [],
   "source": [
    "# LogisticRegression Steps & Code:\n",
    "\n",
    "# Step 01 - Importing necessary libraries & Splitting Independent & Dependent variable\n",
    "import numpy as np, pandas as np\n",
    "X = df.drop('Write here the dependent column name',axis=1) #.values.reshape(-1,1)\n",
    "y = df.Write here the dependent column name\n",
    "\n",
    "# Step 02 - Splitting the dataset into the Training set and Test set.\n",
    "from sklearn.model_selection import train_test_split\n",
    "X_train,X_test,y_train,y_test = train_test_split(X,y,test_size=0.3,random_state=1)\n",
    "\n",
    "# Step 03 - Fitting Simple Logistic Regression to the Training set.\n",
    "from sklearn.linear_model import LogisticRegression      # Note\n",
    "lm = LogisticRegression()\n",
    "lm.fit(X_train,y_train)\n",
    "\n",
    "# Step 04 - Predicting the Test set results.\n",
    "predictions = lm.predict(X_test)\n",
    "\n",
    "# Step 05 : Checking accuracy of the model.\n",
    "from sklearn.metrics import accuracy_score\n",
    "accuracy_score(y_test,predictions)\n",
    "\n",
    "# Note in the above code I have assumed that your DataFrame is stored in the variable df."
   ]
  },
  {
   "cell_type": "markdown",
   "metadata": {},
   "source": [
    "## For LinearRegression Algorithm, Theory & Mathematical explanation find me on medium & Blogspot\n",
    "### Medium - Go to https://medium.com/@idrisikasim\n",
    "### Blogspot - Go to https://idrisikasim.blogspot.com"
   ]
  },
  {
   "cell_type": "markdown",
   "metadata": {},
   "source": [
    "# ...END..."
   ]
  }
 ],
 "metadata": {
  "kernelspec": {
   "display_name": "Python 3",
   "language": "python",
   "name": "python3"
  },
  "language_info": {
   "codemirror_mode": {
    "name": "ipython",
    "version": 3
   },
   "file_extension": ".py",
   "mimetype": "text/x-python",
   "name": "python",
   "nbconvert_exporter": "python",
   "pygments_lexer": "ipython3",
   "version": "3.7.3"
  }
 },
 "nbformat": 4,
 "nbformat_minor": 2
}

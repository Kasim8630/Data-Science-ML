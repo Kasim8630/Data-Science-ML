{
 "cells": [
  {
   "cell_type": "markdown",
   "metadata": {},
   "source": [
    "# Functions, Loops, if else elif Statements, List Comprehension"
   ]
  },
  {
   "cell_type": "code",
   "execution_count": 1,
   "metadata": {},
   "outputs": [],
   "source": [
    "def Add(a,b):\n",
    "    return a+b"
   ]
  },
  {
   "cell_type": "code",
   "execution_count": 2,
   "metadata": {},
   "outputs": [
    {
     "data": {
      "text/plain": [
       "4"
      ]
     },
     "execution_count": 2,
     "metadata": {},
     "output_type": "execute_result"
    }
   ],
   "source": [
    "Add(2,2)"
   ]
  },
  {
   "cell_type": "code",
   "execution_count": 3,
   "metadata": {},
   "outputs": [
    {
     "data": {
      "text/plain": [
       "5"
      ]
     },
     "execution_count": 3,
     "metadata": {},
     "output_type": "execute_result"
    }
   ],
   "source": [
    "Add(Add(1,2),2)"
   ]
  },
  {
   "cell_type": "code",
   "execution_count": 4,
   "metadata": {},
   "outputs": [],
   "source": [
    "def Mul(c,d):\n",
    "    return c*d\n",
    "def Div(e,f):\n",
    "    return e/f\n",
    "def Sub(g,h):\n",
    "    return g-h"
   ]
  },
  {
   "cell_type": "code",
   "execution_count": 5,
   "metadata": {},
   "outputs": [
    {
     "data": {
      "text/plain": [
       "4"
      ]
     },
     "execution_count": 5,
     "metadata": {},
     "output_type": "execute_result"
    }
   ],
   "source": [
    "Mul(2,2)"
   ]
  },
  {
   "cell_type": "code",
   "execution_count": 6,
   "metadata": {},
   "outputs": [
    {
     "data": {
      "text/plain": [
       "1.0"
      ]
     },
     "execution_count": 6,
     "metadata": {},
     "output_type": "execute_result"
    }
   ],
   "source": [
    "Div(2,2)"
   ]
  },
  {
   "cell_type": "code",
   "execution_count": 8,
   "metadata": {},
   "outputs": [],
   "source": [
    "def eq(a,b,c,d):\n",
    "    e=a+c*d/c+b\n",
    "    return e"
   ]
  },
  {
   "cell_type": "code",
   "execution_count": 9,
   "metadata": {},
   "outputs": [
    {
     "data": {
      "text/plain": [
       "9.0"
      ]
     },
     "execution_count": 9,
     "metadata": {},
     "output_type": "execute_result"
    }
   ],
   "source": [
    "eq(1,5,2,3)"
   ]
  },
  {
   "cell_type": "code",
   "execution_count": 10,
   "metadata": {},
   "outputs": [
    {
     "data": {
      "text/plain": [
       "9.0"
      ]
     },
     "execution_count": 10,
     "metadata": {},
     "output_type": "execute_result"
    }
   ],
   "source": [
    "Add(Add(Mul(Div(3,2),2),5),1)"
   ]
  },
  {
   "cell_type": "code",
   "execution_count": 11,
   "metadata": {},
   "outputs": [
    {
     "name": "stdout",
     "output_type": "stream",
     "text": [
      "even\n"
     ]
    }
   ],
   "source": [
    "if 8%2==0:\n",
    "    print('even')"
   ]
  },
  {
   "cell_type": "code",
   "execution_count": 12,
   "metadata": {},
   "outputs": [],
   "source": [
    "def even(a):\n",
    "    if a%2==0:\n",
    "        print('even')\n",
    "    else:\n",
    "        print('odd')       # if three condition use elif then else"
   ]
  },
  {
   "cell_type": "code",
   "execution_count": 13,
   "metadata": {},
   "outputs": [
    {
     "name": "stdout",
     "output_type": "stream",
     "text": [
      "odd\n"
     ]
    }
   ],
   "source": [
    "even(9.6)"
   ]
  },
  {
   "cell_type": "code",
   "execution_count": 14,
   "metadata": {},
   "outputs": [
    {
     "name": "stdout",
     "output_type": "stream",
     "text": [
      "even\n"
     ]
    }
   ],
   "source": [
    "even(8)"
   ]
  },
  {
   "cell_type": "code",
   "execution_count": 15,
   "metadata": {},
   "outputs": [],
   "source": [
    "def fact(a):\n",
    "    if a==1:\n",
    "        return a\n",
    "    else:\n",
    "         return a*fact(a-1)"
   ]
  },
  {
   "cell_type": "code",
   "execution_count": 16,
   "metadata": {},
   "outputs": [
    {
     "data": {
      "text/plain": [
       "120"
      ]
     },
     "execution_count": 16,
     "metadata": {},
     "output_type": "execute_result"
    }
   ],
   "source": [
    "fact(5)"
   ]
  },
  {
   "cell_type": "code",
   "execution_count": 17,
   "metadata": {},
   "outputs": [
    {
     "data": {
      "text/plain": [
       "120"
      ]
     },
     "execution_count": 17,
     "metadata": {},
     "output_type": "execute_result"
    }
   ],
   "source": [
    "5*4*3*2*1"
   ]
  },
  {
   "cell_type": "code",
   "execution_count": 18,
   "metadata": {},
   "outputs": [],
   "source": [
    "def vol(l,b,h):\n",
    "    if l*b*h>=100:\n",
    "        print('volume is big')\n",
    "    else:\n",
    "        print('volume is small')"
   ]
  },
  {
   "cell_type": "code",
   "execution_count": 19,
   "metadata": {},
   "outputs": [
    {
     "name": "stdout",
     "output_type": "stream",
     "text": [
      "volume is small\n"
     ]
    }
   ],
   "source": [
    "vol(2,3,5)"
   ]
  },
  {
   "cell_type": "code",
   "execution_count": 20,
   "metadata": {},
   "outputs": [
    {
     "name": "stdout",
     "output_type": "stream",
     "text": [
      "volume is big\n"
     ]
    }
   ],
   "source": [
    "vol(5,5,5)"
   ]
  },
  {
   "cell_type": "code",
   "execution_count": 21,
   "metadata": {},
   "outputs": [
    {
     "data": {
      "text/plain": [
       "5050"
      ]
     },
     "execution_count": 21,
     "metadata": {},
     "output_type": "execute_result"
    }
   ],
   "source": [
    "s=0\n",
    "i=1\n",
    "while i<101:\n",
    "    s=s+i\n",
    "    i=i+1\n",
    "s "
   ]
  },
  {
   "cell_type": "code",
   "execution_count": 22,
   "metadata": {},
   "outputs": [
    {
     "name": "stdout",
     "output_type": "stream",
     "text": [
      "s\n",
      "s\n",
      "s\n",
      "s\n",
      "s\n",
      "s\n",
      "s\n",
      "s\n",
      "s\n",
      "s\n",
      "s\n",
      "s\n",
      "s\n",
      "s\n",
      "s\n",
      "s\n",
      "s\n",
      "s\n",
      "s\n",
      "s\n",
      "s\n",
      "s\n",
      "s\n",
      "s\n",
      "s\n",
      "s\n",
      "s\n",
      "s\n",
      "s\n",
      "s\n",
      "s\n",
      "s\n",
      "s\n",
      "s\n",
      "s\n",
      "s\n",
      "s\n",
      "s\n",
      "s\n",
      "s\n",
      "s\n",
      "s\n",
      "s\n",
      "s\n",
      "s\n",
      "s\n",
      "s\n",
      "s\n",
      "s\n",
      "s\n",
      "s\n",
      "s\n",
      "s\n",
      "s\n",
      "s\n",
      "s\n",
      "s\n",
      "s\n",
      "s\n",
      "s\n",
      "s\n",
      "s\n",
      "s\n",
      "s\n",
      "s\n",
      "s\n",
      "s\n",
      "s\n",
      "s\n",
      "s\n",
      "s\n",
      "s\n",
      "s\n",
      "s\n",
      "s\n",
      "s\n",
      "s\n",
      "s\n",
      "s\n",
      "s\n",
      "s\n",
      "s\n",
      "s\n",
      "s\n",
      "s\n",
      "s\n",
      "s\n",
      "s\n",
      "s\n",
      "s\n",
      "s\n",
      "s\n",
      "s\n",
      "s\n",
      "s\n",
      "s\n",
      "s\n",
      "s\n",
      "s\n",
      "s\n"
     ]
    }
   ],
   "source": [
    "s=0\n",
    "i=1\n",
    "while i<101:\n",
    "    s=s+i\n",
    "    i=i+1\n",
    "    print('s')"
   ]
  },
  {
   "cell_type": "code",
   "execution_count": 23,
   "metadata": {},
   "outputs": [
    {
     "data": {
      "text/plain": [
       "5050"
      ]
     },
     "execution_count": 23,
     "metadata": {},
     "output_type": "execute_result"
    }
   ],
   "source": [
    "s=0\n",
    "for i in range(101):\n",
    "    s=s+i\n",
    "s"
   ]
  },
  {
   "cell_type": "code",
   "execution_count": 24,
   "metadata": {},
   "outputs": [],
   "source": [
    "\n",
    "def mul(a):\n",
    "    if a%3==0:\n",
    "        print('Fizz')\n",
    "    elif a%5==0:\n",
    "        print('Bizz')\n",
    "    elif a%5==0:\n",
    "        print('FizzBuzz')"
   ]
  },
  {
   "cell_type": "code",
   "execution_count": 25,
   "metadata": {},
   "outputs": [
    {
     "name": "stdout",
     "output_type": "stream",
     "text": [
      "Fizz\n"
     ]
    }
   ],
   "source": [
    "mul(3)"
   ]
  },
  {
   "cell_type": "code",
   "execution_count": 26,
   "metadata": {},
   "outputs": [
    {
     "name": "stdout",
     "output_type": "stream",
     "text": [
      "Bizz\n"
     ]
    }
   ],
   "source": [
    "mul(5)"
   ]
  },
  {
   "cell_type": "code",
   "execution_count": 27,
   "metadata": {},
   "outputs": [
    {
     "name": "stdout",
     "output_type": "stream",
     "text": [
      "Bizz\n"
     ]
    }
   ],
   "source": [
    "mul(5)"
   ]
  },
  {
   "cell_type": "code",
   "execution_count": 28,
   "metadata": {},
   "outputs": [
    {
     "name": "stdout",
     "output_type": "stream",
     "text": [
      "Fizz\n",
      "Bizz\n",
      "0\n",
      "Bizz\n",
      "0\n",
      "Bizz\n",
      "0\n",
      "Fizz\n",
      "Bizz\n",
      "0\n",
      "Bizz\n",
      "0\n",
      "Bizz\n",
      "0\n",
      "Fizz\n",
      "Bizz\n",
      "0\n",
      "Bizz\n",
      "0\n",
      "Bizz\n",
      "0\n",
      "Fizz\n",
      "Bizz\n",
      "0\n",
      "Bizz\n",
      "0\n",
      "Bizz\n",
      "0\n",
      "Fizz\n",
      "Bizz\n",
      "0\n",
      "Bizz\n",
      "0\n",
      "Bizz\n",
      "0\n",
      "Fizz\n",
      "Bizz\n",
      "0\n",
      "Bizz\n",
      "0\n",
      "Bizz\n",
      "0\n",
      "Fizz\n",
      "Bizz\n",
      "0\n",
      "Bizz\n",
      "0\n",
      "Bizz\n",
      "0\n",
      "Fizz\n",
      "Bizz\n",
      "0\n",
      "Bizz\n",
      "0\n",
      "Bizz\n",
      "0\n",
      "Fizz\n",
      "Bizz\n",
      "0\n",
      "Bizz\n",
      "0\n",
      "Bizz\n",
      "0\n",
      "Fizz\n",
      "Bizz\n",
      "0\n",
      "Bizz\n",
      "0\n",
      "Bizz\n",
      "0\n",
      "Fizz\n",
      "Bizz\n",
      "0\n",
      "Bizz\n",
      "0\n",
      "Bizz\n",
      "0\n",
      "Fizz\n",
      "Bizz\n",
      "0\n",
      "Bizz\n",
      "0\n",
      "Bizz\n",
      "0\n",
      "Fizz\n",
      "Bizz\n",
      "0\n",
      "Bizz\n",
      "0\n",
      "Bizz\n",
      "0\n",
      "Fizz\n",
      "Bizz\n",
      "0\n",
      "Bizz\n",
      "0\n",
      "Bizz\n",
      "0\n",
      "Fizz\n",
      "Bizz\n",
      "0\n",
      "Bizz\n",
      "0\n",
      "Bizz\n",
      "0\n",
      "Fizz\n",
      "Bizz\n",
      "0\n",
      "Bizz\n",
      "0\n",
      "Bizz\n",
      "0\n",
      "Fizz\n",
      "Bizz\n",
      "0\n",
      "Bizz\n",
      "0\n",
      "Bizz\n",
      "0\n",
      "Fizz\n",
      "Bizz\n",
      "0\n",
      "Bizz\n",
      "0\n",
      "Bizz\n",
      "0\n",
      "Fizz\n",
      "Bizz\n",
      "0\n",
      "Bizz\n",
      "0\n",
      "Bizz\n",
      "0\n",
      "Fizz\n",
      "Bizz\n",
      "0\n",
      "Bizz\n",
      "0\n",
      "Bizz\n",
      "0\n",
      "Fizz\n",
      "Bizz\n",
      "0\n",
      "Bizz\n",
      "0\n",
      "Bizz\n",
      "0\n",
      "Fizz\n",
      "Bizz\n",
      "0\n",
      "Bizz\n",
      "0\n",
      "Bizz\n",
      "0\n",
      "Fizz\n",
      "Bizz\n",
      "0\n",
      "Bizz\n",
      "0\n",
      "Bizz\n",
      "0\n",
      "Fizz\n",
      "Bizz\n",
      "0\n",
      "Bizz\n",
      "0\n",
      "Bizz\n",
      "0\n",
      "Fizz\n",
      "Bizz\n",
      "0\n",
      "Bizz\n",
      "0\n",
      "Bizz\n",
      "0\n",
      "Fizz\n",
      "Bizz\n",
      "0\n",
      "Bizz\n",
      "0\n",
      "Bizz\n",
      "0\n",
      "Fizz\n",
      "Bizz\n",
      "0\n",
      "Bizz\n",
      "0\n",
      "Bizz\n",
      "0\n",
      "Fizz\n",
      "Bizz\n",
      "0\n",
      "Bizz\n",
      "0\n",
      "Bizz\n",
      "0\n",
      "Fizz\n",
      "Bizz\n",
      "0\n",
      "Bizz\n",
      "0\n",
      "Bizz\n",
      "0\n",
      "Fizz\n",
      "Bizz\n",
      "0\n",
      "Bizz\n",
      "0\n",
      "Bizz\n",
      "0\n",
      "Fizz\n",
      "Bizz\n",
      "0\n",
      "Bizz\n",
      "0\n",
      "Bizz\n",
      "0\n",
      "Fizz\n",
      "Bizz\n",
      "0\n",
      "Bizz\n",
      "0\n",
      "Bizz\n",
      "0\n",
      "Fizz\n",
      "Bizz\n",
      "0\n",
      "Bizz\n",
      "0\n",
      "Bizz\n",
      "0\n",
      "Fizz\n",
      "Bizz\n",
      "0\n",
      "Bizz\n",
      "0\n"
     ]
    }
   ],
   "source": [
    "s=0\n",
    "i=1\n",
    "for i in range(101):\n",
    "    if i%3==0:\n",
    "        print('Fizz')\n",
    "    if s%5==0:\n",
    "        print('Bizz')\n",
    "    if [(s%3==0)*(s%5==0)]==0:\n",
    "        print('FizzBizz')\n",
    "    else:\n",
    "        print(s)      # refer pic"
   ]
  },
  {
   "cell_type": "code",
   "execution_count": 29,
   "metadata": {},
   "outputs": [
    {
     "data": {
      "text/plain": [
       "[0,\n",
       " 1,\n",
       " 2,\n",
       " 3,\n",
       " 4,\n",
       " 5,\n",
       " 6,\n",
       " 7,\n",
       " 8,\n",
       " 9,\n",
       " 10,\n",
       " 11,\n",
       " 12,\n",
       " 13,\n",
       " 14,\n",
       " 15,\n",
       " 16,\n",
       " 17,\n",
       " 18,\n",
       " 19,\n",
       " 20,\n",
       " 21,\n",
       " 22,\n",
       " 23,\n",
       " 24,\n",
       " 25,\n",
       " 26,\n",
       " 27,\n",
       " 28,\n",
       " 29,\n",
       " 30,\n",
       " 31,\n",
       " 32,\n",
       " 33,\n",
       " 34,\n",
       " 35,\n",
       " 36,\n",
       " 37,\n",
       " 38,\n",
       " 39,\n",
       " 40,\n",
       " 41,\n",
       " 42,\n",
       " 43,\n",
       " 44,\n",
       " 45,\n",
       " 46,\n",
       " 47,\n",
       " 48,\n",
       " 49,\n",
       " 50,\n",
       " 51,\n",
       " 52,\n",
       " 53,\n",
       " 54,\n",
       " 55,\n",
       " 56,\n",
       " 57,\n",
       " 58,\n",
       " 59,\n",
       " 60,\n",
       " 61,\n",
       " 62,\n",
       " 63,\n",
       " 64,\n",
       " 65,\n",
       " 66,\n",
       " 67,\n",
       " 68,\n",
       " 69,\n",
       " 70,\n",
       " 71,\n",
       " 72,\n",
       " 73,\n",
       " 74,\n",
       " 75,\n",
       " 76,\n",
       " 77,\n",
       " 78,\n",
       " 79,\n",
       " 80,\n",
       " 81,\n",
       " 82,\n",
       " 83,\n",
       " 84,\n",
       " 85,\n",
       " 86,\n",
       " 87,\n",
       " 88,\n",
       " 89,\n",
       " 90,\n",
       " 91,\n",
       " 92,\n",
       " 93,\n",
       " 94,\n",
       " 95,\n",
       " 96,\n",
       " 97,\n",
       " 98,\n",
       " 99,\n",
       " 100]"
      ]
     },
     "execution_count": 29,
     "metadata": {},
     "output_type": "execute_result"
    }
   ],
   "source": [
    "[i for i in range(101)]"
   ]
  },
  {
   "cell_type": "code",
   "execution_count": 30,
   "metadata": {},
   "outputs": [
    {
     "data": {
      "text/plain": [
       "[True]"
      ]
     },
     "execution_count": 30,
     "metadata": {},
     "output_type": "execute_result"
    }
   ],
   "source": [
    "[i in range(101)]"
   ]
  },
  {
   "cell_type": "code",
   "execution_count": 31,
   "metadata": {},
   "outputs": [
    {
     "data": {
      "text/plain": [
       "[0,\n",
       " 1,\n",
       " 4,\n",
       " 9,\n",
       " 16,\n",
       " 25,\n",
       " 36,\n",
       " 49,\n",
       " 64,\n",
       " 81,\n",
       " 100,\n",
       " 121,\n",
       " 144,\n",
       " 169,\n",
       " 196,\n",
       " 225,\n",
       " 256,\n",
       " 289,\n",
       " 324,\n",
       " 361,\n",
       " 400,\n",
       " 441,\n",
       " 484,\n",
       " 529,\n",
       " 576,\n",
       " 625,\n",
       " 676,\n",
       " 729,\n",
       " 784,\n",
       " 841,\n",
       " 900,\n",
       " 961,\n",
       " 1024,\n",
       " 1089,\n",
       " 1156,\n",
       " 1225,\n",
       " 1296,\n",
       " 1369,\n",
       " 1444,\n",
       " 1521,\n",
       " 1600,\n",
       " 1681,\n",
       " 1764,\n",
       " 1849,\n",
       " 1936,\n",
       " 2025,\n",
       " 2116,\n",
       " 2209,\n",
       " 2304,\n",
       " 2401,\n",
       " 2500,\n",
       " 2601,\n",
       " 2704,\n",
       " 2809,\n",
       " 2916,\n",
       " 3025,\n",
       " 3136,\n",
       " 3249,\n",
       " 3364,\n",
       " 3481,\n",
       " 3600,\n",
       " 3721,\n",
       " 3844,\n",
       " 3969,\n",
       " 4096,\n",
       " 4225,\n",
       " 4356,\n",
       " 4489,\n",
       " 4624,\n",
       " 4761,\n",
       " 4900,\n",
       " 5041,\n",
       " 5184,\n",
       " 5329,\n",
       " 5476,\n",
       " 5625,\n",
       " 5776,\n",
       " 5929,\n",
       " 6084,\n",
       " 6241,\n",
       " 6400,\n",
       " 6561,\n",
       " 6724,\n",
       " 6889,\n",
       " 7056,\n",
       " 7225,\n",
       " 7396,\n",
       " 7569,\n",
       " 7744,\n",
       " 7921,\n",
       " 8100,\n",
       " 8281,\n",
       " 8464,\n",
       " 8649,\n",
       " 8836,\n",
       " 9025,\n",
       " 9216,\n",
       " 9409,\n",
       " 9604,\n",
       " 9801,\n",
       " 10000]"
      ]
     },
     "execution_count": 31,
     "metadata": {},
     "output_type": "execute_result"
    }
   ],
   "source": [
    "[i*i for i in range(101)]"
   ]
  },
  {
   "cell_type": "code",
   "execution_count": 32,
   "metadata": {},
   "outputs": [
    {
     "data": {
      "text/plain": [
       "[0,\n",
       " 2,\n",
       " 4,\n",
       " 6,\n",
       " 8,\n",
       " 10,\n",
       " 12,\n",
       " 14,\n",
       " 16,\n",
       " 18,\n",
       " 20,\n",
       " 22,\n",
       " 24,\n",
       " 26,\n",
       " 28,\n",
       " 30,\n",
       " 32,\n",
       " 34,\n",
       " 36,\n",
       " 38,\n",
       " 40,\n",
       " 42,\n",
       " 44,\n",
       " 46,\n",
       " 48,\n",
       " 50,\n",
       " 52,\n",
       " 54,\n",
       " 56,\n",
       " 58,\n",
       " 60,\n",
       " 62,\n",
       " 64,\n",
       " 66,\n",
       " 68,\n",
       " 70,\n",
       " 72,\n",
       " 74,\n",
       " 76,\n",
       " 78,\n",
       " 80,\n",
       " 82,\n",
       " 84,\n",
       " 86,\n",
       " 88,\n",
       " 90,\n",
       " 92,\n",
       " 94,\n",
       " 96,\n",
       " 98,\n",
       " 100]"
      ]
     },
     "execution_count": 32,
     "metadata": {},
     "output_type": "execute_result"
    }
   ],
   "source": [
    "[i for i in range(101) if i%2==0]"
   ]
  },
  {
   "cell_type": "code",
   "execution_count": 33,
   "metadata": {},
   "outputs": [
    {
     "name": "stdout",
     "output_type": "stream",
     "text": [
      "0\n",
      "2\n",
      "4\n",
      "6\n",
      "8\n",
      "10\n",
      "12\n",
      "14\n",
      "16\n",
      "18\n",
      "20\n",
      "22\n",
      "24\n",
      "26\n",
      "28\n",
      "30\n",
      "32\n",
      "34\n",
      "36\n",
      "38\n",
      "40\n",
      "42\n",
      "44\n",
      "46\n",
      "48\n",
      "50\n",
      "52\n",
      "54\n",
      "56\n",
      "58\n",
      "60\n",
      "62\n",
      "64\n",
      "66\n",
      "68\n",
      "70\n",
      "72\n",
      "74\n",
      "76\n",
      "78\n",
      "80\n",
      "82\n",
      "84\n",
      "86\n",
      "88\n",
      "90\n",
      "92\n",
      "94\n",
      "96\n",
      "98\n",
      "100\n"
     ]
    }
   ],
   "source": [
    "for i in range(101):\n",
    "    if i%2==0:\n",
    "        print(i)\n",
    "    "
   ]
  },
  {
   "cell_type": "code",
   "execution_count": 34,
   "metadata": {},
   "outputs": [],
   "source": [
    "a=['blue','red','black','white','green','navi blue','orange','brown','pink','gre']"
   ]
  },
  {
   "cell_type": "code",
   "execution_count": 35,
   "metadata": {},
   "outputs": [
    {
     "data": {
      "text/plain": [
       "[True, False, True, False, False, False, False, True, False, False]"
      ]
     },
     "execution_count": 35,
     "metadata": {},
     "output_type": "execute_result"
    }
   ],
   "source": [
    "[a[i].startswith('b') for i in range(len(a))]"
   ]
  },
  {
   "cell_type": "code",
   "execution_count": 36,
   "metadata": {},
   "outputs": [
    {
     "name": "stdout",
     "output_type": "stream",
     "text": [
      "blue\n",
      "black\n",
      "brown\n"
     ]
    }
   ],
   "source": [
    "for i in range(len(a)):\n",
    "    if a[i].startswith('b'):\n",
    "        print(a[i])"
   ]
  },
  {
   "cell_type": "code",
   "execution_count": 37,
   "metadata": {},
   "outputs": [
    {
     "data": {
      "text/plain": [
       "['blue', 'black', 'brown']"
      ]
     },
     "execution_count": 37,
     "metadata": {},
     "output_type": "execute_result"
    }
   ],
   "source": [
    "[a[i] for i in range(len(a)) if a[i].startswith('b')]"
   ]
  },
  {
   "cell_type": "code",
   "execution_count": null,
   "metadata": {},
   "outputs": [],
   "source": [
    "# End..."
   ]
  }
 ],
 "metadata": {
  "kernelspec": {
   "display_name": "Python 3",
   "language": "python",
   "name": "python3"
  },
  "language_info": {
   "codemirror_mode": {
    "name": "ipython",
    "version": 3
   },
   "file_extension": ".py",
   "mimetype": "text/x-python",
   "name": "python",
   "nbconvert_exporter": "python",
   "pygments_lexer": "ipython3",
   "version": "3.7.3"
  }
 },
 "nbformat": 4,
 "nbformat_minor": 2
}
